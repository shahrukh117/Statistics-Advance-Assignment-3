{
 "cells": [
  {
   "cell_type": "markdown",
   "id": "b75a678f-9ed1-4c3b-83b3-6218f8bd03e9",
   "metadata": {},
   "source": [
    "### Q1: What is Estimation Statistics? Explain point estimate and interval estimate."
   ]
  },
  {
   "cell_type": "markdown",
   "id": "1265f3e9-f76c-4cf7-99c0-f937887756f4",
   "metadata": {},
   "source": [
    "## Estimation Statistics\n",
    "\n",
    "Estimation statistics involves the use of sample data to make inferences or predictions about population parameters. There are two main types of estimates: **point estimates** and **interval estimates**.\n",
    "\n",
    "### Point Estimate\n",
    "\n",
    "- A *point estimate* is a single value that is used to approximate the population parameter of interest.\n",
    "- It is based on sample data and provides a specific numerical value as an estimate for the parameter.\n",
    "- For example, the sample mean $(\\bar{x})$ is a point estimate for the population mean $(\\mu)$, and the sample proportion $(p)$ is a point estimate for the population proportion $(P)$.\n",
    "\n",
    "### Interval Estimate\n",
    "\n",
    "- An *interval estimate* provides a range of values within which the true population parameter is likely to fall.\n",
    "- It takes into account the uncertainty inherent in using sample data to make predictions about a population.\n",
    "- The most common form of interval estimate is the *confidence interval*.\n",
    "\n",
    "  #### Confidence Interval\n",
    "\n",
    "  - A confidence interval is a range of values constructed around a point estimate that is likely to contain the true population parameter with a certain level of confidence.\n",
    "  - The level of confidence is expressed as a percentage, typically 95% or 99%.\n",
    "  - For example, a 95% confidence interval for the population mean would be interpreted as \"we are 95% confident that the true population mean falls within this interval.\"\n",
    "  - The width of the confidence interval depends on the variability of the data and the chosen level of confidence."
   ]
  },
  {
   "cell_type": "markdown",
   "id": "207ab808-8194-48de-9cac-f9ec7baba255",
   "metadata": {},
   "source": [
    "### Q2. Write a Python function to estimate the population mean using a sample mean and standard deviation."
   ]
  },
  {
   "cell_type": "code",
   "execution_count": 1,
   "id": "fbb9c174-ae45-4186-a1c7-c093f3845ac2",
   "metadata": {},
   "outputs": [
    {
     "name": "stdout",
     "output_type": "stream",
     "text": [
      "Estimated population mean: 50\n",
      "Confidence interval: (48.04, 51.96)\n"
     ]
    }
   ],
   "source": [
    "def estimate_population_mean(sample_mean, sample_std_dev, sample_size):\n",
    "    import numpy as np\n",
    "    \n",
    "    # Calculate the standard error\n",
    "    standard_error = sample_std_dev / np.sqrt(sample_size)\n",
    "    \n",
    "    # Calculate the margin of error (assuming a 95% confidence level)\n",
    "    margin_of_error = 1.96 * standard_error\n",
    "    \n",
    "    # Calculate the confidence interval\n",
    "    lower_bound = sample_mean - margin_of_error\n",
    "    upper_bound = sample_mean + margin_of_error\n",
    "    \n",
    "    return lower_bound, upper_bound\n",
    "\n",
    "# Example usage:\n",
    "sample_mean = 50  # Replace with your sample mean\n",
    "sample_std_dev = 10  # Replace with your sample standard deviation\n",
    "sample_size = 100  # Replace with your sample size\n",
    "\n",
    "lower_bound, upper_bound = estimate_population_mean(sample_mean, sample_std_dev, sample_size)\n",
    "\n",
    "print(f\"Estimated population mean: {sample_mean}\")\n",
    "print(f\"Confidence interval: ({lower_bound}, {upper_bound})\")\n"
   ]
  },
  {
   "cell_type": "code",
   "execution_count": 2,
   "id": "60952897-9bb4-4685-b2a2-db9adb32b190",
   "metadata": {},
   "outputs": [
    {
     "name": "stdout",
     "output_type": "stream",
     "text": [
      "Estimated population mean: 50\n",
      "Confidence interval: (46.08, 53.92)\n"
     ]
    }
   ],
   "source": [
    "def estimate_population_mean(sample_mean, sample_std_dev, sample_size):\n",
    "    standard_error = sample_std_dev / (sample_size ** 0.5)\n",
    "    margin_of_error = 1.96 * standard_error  # Assuming a 95% confidence level\n",
    "    lower_bound = sample_mean - margin_of_error\n",
    "    upper_bound = sample_mean + margin_of_error\n",
    "    return lower_bound, upper_bound\n",
    "\n",
    "sample_mean = 50  # Replace with your sample mean\n",
    "sample_std_dev = 20  # Replace with your sample standard deviation\n",
    "sample_size = 100  # Replace with your sample size\n",
    "\n",
    "lower_bound, upper_bound = estimate_population_mean(sample_mean, sample_std_dev, sample_size)\n",
    "\n",
    "print(f\"Estimated population mean: {sample_mean}\")\n",
    "print(f\"Confidence interval: ({lower_bound}, {upper_bound})\")\n"
   ]
  },
  {
   "cell_type": "markdown",
   "id": "900b166e-b7d6-4f50-bf37-6a47c466c31c",
   "metadata": {},
   "source": [
    "### Q3: What is Hypothesis testing? Why is it used? State the importance of Hypothesis testing."
   ]
  },
  {
   "cell_type": "markdown",
   "id": "ddfe856e-9884-4378-8457-9de05e770471",
   "metadata": {},
   "source": [
    "Hypothesis testing is a statistical method used to determine whether a given hypothesis about a population parameter is true or not. It involves making assumptions about the population, called hypotheses, and then using statistical methods to test those assumptions. The goal is to determine whether the evidence supports the null hypothesis (the original assumption) or the alternative hypothesis (the opposite of the null hypothesis).\n",
    "\n",
    "Hypothesis testing is used in various fields such as finance, marketing, engineering, and social sciences to make informed decisions based on data. It helps to:\n",
    "\n",
    "1. **Evaluate the effectiveness of a treatment or intervention:** Hypothesis testing can be used to determine whether a new treatment or intervention is more effective than the current one. For example, in a clinical trial for a new drug, hypothesis testing can help to determine whether the drug is more effective than a placebo or an existing drug.\n",
    "\n",
    "2. **Make predictions about future outcomes:** Hypothesis testing can help to predict future outcomes based on historical data. For example, in finance, hypothesis testing can be used to predict the returns of a stock or a portfolio.\n",
    "\n",
    "3. **Identify causal relationships:** Hypothesis testing can help to identify causal relationships between variables. For example, in marketing, hypothesis testing can be used to determine whether a particular advertising campaign has a causal effect on sales.\n",
    "\n",
    "4. **Evaluate the reliability of a measurement:** Hypothesis testing can help to determine whether a measurement is reliable or not. For example, in engineering, hypothesis testing can be used to determine whether a new measurement device is accurate and reliable.\n"
   ]
  },
  {
   "cell_type": "markdown",
   "id": "7e918581-0e86-49f3-a68a-16404b526548",
   "metadata": {},
   "source": [
    "### Q4. Create a hypothesis that states whether the average weight of male college students is greater than the average weight of female college students."
   ]
  },
  {
   "cell_type": "markdown",
   "id": "c72fa08f-30d0-4e6d-b272-8f2c6436a9f8",
   "metadata": {},
   "source": [
    "**Null hypothesis (H0):** The average weight of male college students is not greater than the average weight of female college students (i.e., there is no significant difference in average weight between male and female college students).\n",
    "\n",
    "**Alternative hypothesis (Ha):** The average weight of male college students is greater than the average weight of female college students (i.e., there is a significant difference in average weight between male and female college students, with males having higher average weight)."
   ]
  },
  {
   "cell_type": "markdown",
   "id": "223844e2-dd1b-4438-8fff-8a317ce29d4b",
   "metadata": {},
   "source": [
    "### Q5. Write a Python script to conduct a hypothesis test on the difference between two population means, given a sample from each population."
   ]
  },
  {
   "cell_type": "code",
   "execution_count": 3,
   "id": "2b8ae3a7-1190-45a6-a0df-bebcd93375fc",
   "metadata": {},
   "outputs": [
    {
     "name": "stdout",
     "output_type": "stream",
     "text": [
      "T-statistic: 3.189519465663725\n",
      "P-value: 0.0016569245914057433\n",
      "Reject the null hypothesis. There is enough evidence to suggest a significant difference.\n"
     ]
    }
   ],
   "source": [
    "import numpy as np\n",
    "from scipy.stats import ttest_ind\n",
    "\n",
    "# Generate sample data for two populations\n",
    "np.random.seed(42)\n",
    "population1 = np.random.normal(loc=60, scale=10, size=100)  # Example: mean=60, std=10, 100 samples\n",
    "population2 = np.random.normal(loc=55, scale=8, size=100)    # Example: mean=55, std=8, 100 samples\n",
    "\n",
    "# Perform a two-sample t-test\n",
    "t_statistic, p_value = ttest_ind(population1, population2)\n",
    "\n",
    "# Set the significance level (alpha)\n",
    "alpha = 0.05\n",
    "\n",
    "# Print the results\n",
    "print(f'T-statistic: {t_statistic}')\n",
    "print(f'P-value: {p_value}')\n",
    "\n",
    "# Compare p-value to the significance level\n",
    "if p_value < alpha:\n",
    "    print(\"Reject the null hypothesis. There is enough evidence to suggest a significant difference.\")\n",
    "else:\n",
    "    print(\"Fail to reject the null hypothesis. There is not enough evidence to suggest a significant difference.\")\n"
   ]
  },
  {
   "cell_type": "code",
   "execution_count": 4,
   "id": "bd8160e8-765c-4e08-8d60-682f0827d86c",
   "metadata": {},
   "outputs": [
    {
     "name": "stdout",
     "output_type": "stream",
     "text": [
      "Fail to reject null hypothesis (p-value: 0.0844). No sufficient evidence to claim a difference in means.\n"
     ]
    }
   ],
   "source": [
    "import scipy.stats as stats\n",
    "\n",
    "# Define sample data\n",
    "sample1 = [23, 25, 22, 27, 21]  # Sample 1 data\n",
    "sample2 = [19, 20, 22, 18, 24]  # Sample 2 data\n",
    "\n",
    "# Define null and alternative hypotheses\n",
    "null_hypothesis = \"mu1 == mu2\"  # No difference in means\n",
    "alternative_hypothesis = \"mu1 > mu2\"  # Mean of sample 1 is greater\n",
    "\n",
    "# Perform two-sample t-test\n",
    "t_statistic, p_value = stats.ttest_ind(sample1, sample2, equal_var=True)\n",
    "\n",
    "# Define significance level\n",
    "alpha = 0.05\n",
    "\n",
    "# Interpret results\n",
    "if p_value < alpha:\n",
    "    print(f\"Reject null hypothesis (p-value: {p_value:.4f}). There is significant evidence to suggest that the average of sample 1 ({sample1.mean():.2f}) is greater than the average of sample 2 ({sample2.mean():.2f}).\")\n",
    "else:\n",
    "    print(f\"Fail to reject null hypothesis (p-value: {p_value:.4f}). No sufficient evidence to claim a difference in means.\")\n",
    "\n"
   ]
  },
  {
   "cell_type": "code",
   "execution_count": 5,
   "id": "e67db3a9-ed1c-4a99-9c60-4ee265e3a3bb",
   "metadata": {},
   "outputs": [
    {
     "name": "stdout",
     "output_type": "stream",
     "text": [
      "T-statistic: 0.000230386457754343\n",
      "P-value: 0.9998163174099579\n",
      "Fail to reject the null hypothesis. There is not enough evidence to suggest a significant difference in age means between males and females.\n"
     ]
    }
   ],
   "source": [
    "import pandas as pd\n",
    "import numpy as np\n",
    "from scipy.stats import ttest_ind\n",
    "\n",
    "titanic_df = pd.read_csv('tested.csv')\n",
    "\n",
    "# Assuming 'titanic_df' is your DataFrame\n",
    "# Load Titanic dataset or use your existing DataFrame\n",
    "# titanic_df = pd.read_csv('titanic.csv')  # Replace with the actual file path\n",
    "\n",
    "# Drop rows with missing age values\n",
    "titanic_df.dropna(subset=['Age'], inplace=True)\n",
    "\n",
    "# Extract age data for males and females\n",
    "age_male = titanic_df[titanic_df['Sex'] == 'male']['Age'].values\n",
    "age_female = titanic_df[titanic_df['Sex'] == 'female']['Age'].values\n",
    "\n",
    "# Perform a two-sample t-test\n",
    "t_statistic, p_value = ttest_ind(age_male, age_female)\n",
    "\n",
    "# Set the significance level (alpha)\n",
    "alpha = 0.05\n",
    "\n",
    "# Print the results\n",
    "print(f'T-statistic: {t_statistic}')\n",
    "print(f'P-value: {p_value}')\n",
    "\n",
    "# Compare p-value to the significance level\n",
    "if p_value < alpha:\n",
    "    print(\"Reject the null hypothesis. There is enough evidence to suggest a significant difference in age means between males and females.\")\n",
    "else:\n",
    "    print(\"Fail to reject the null hypothesis. There is not enough evidence to suggest a significant difference in age means between males and females.\")\n"
   ]
  },
  {
   "cell_type": "markdown",
   "id": "2ef807f7-054f-462b-b520-a277eb6aae22",
   "metadata": {},
   "source": [
    "### Q6: What is a null and alternative hypothesis? Give some examples."
   ]
  },
  {
   "cell_type": "markdown",
   "id": "8a292a8f-76a1-4404-b38b-abfc8553aec1",
   "metadata": {},
   "source": [
    "- **Null Hypothesis (H0 )** – This can be thought of as the implied hypothesis. “Null” meaning “nothing.”  This hypothesis states that there is no difference between groups or no relationship between variables. The null hypothesis is a presumption of status quo or no change.\n",
    "\n",
    "- **Alternative Hypothesis (Ha)** – This is also known as the claim. This hypothesis should state what you expect the data to show, based on your research on the topic. This is your answer to your research question.\n",
    "\n",
    "##### Examples:\n",
    "\n",
    "**Null Hypothesis:**  H0: There is no difference in the salary of factory workers based on gender.\n",
    "\n",
    "**Alternative Hypothesis:**  Ha: Male factory workers have a higher salary than female factory workers."
   ]
  },
  {
   "cell_type": "markdown",
   "id": "59595d60-e06e-420c-8bd9-7f771fe65def",
   "metadata": {},
   "source": [
    "### Q7: Write down the steps involved in hypothesis testing."
   ]
  },
  {
   "cell_type": "markdown",
   "id": "4f0d09e9-a13a-4577-a15d-1699853812f8",
   "metadata": {},
   "source": [
    "Hypothesis testing is a statistical method used to evaluate the validity of a statement, known as a hypothesis, about a population based on a sample. Here are the general steps involved in hypothesis testing:\n",
    "\n",
    "1. **Formulate the research question or hypothesis:** Identify the problem you want to investigate and create a clear, testable hypothesis that can be either a claim about the population or a prediction about the relationship between variables.\n",
    "\n",
    "2. **Set up the null and alternative hypotheses:** The null hypothesis (H0) is the statement that there is no significant difference or effect, while the alternative hypothesis (H1) is the statement that contradicts the null hypothesis and represents the research hypothesis.\n",
    "\n",
    "3. **Choose the level of significance (α):** This is the probability of rejecting the null hypothesis when it is actually true (a type I error). A common level of significance is 0.05, meaning there is a 5% chance of making a type I error.\n",
    "\n",
    "4. **Collect and organize data:** Gather a representative sample from the population and organize it in a way that can be analyzed statistically.\n",
    "\n",
    "5. **Choose a statistical test:** Select an appropriate test based on the type of data (continuous, categorical, or ordinal) and the research question. Common tests include t-tests, ANOVA, chi-square, and regression analysis.\n",
    "\n",
    "6. **Calculate the test statistic:** Apply the chosen statistical test to the data, which will result in a test statistic that measures the difference between the observed results and the null hypothesis.\n",
    "\n",
    "7. **Determine the critical value or p-value:** For a given level of significance (α) and the chosen test statistic, find the critical value (for non-parametric tests) or calculate the p-value (for parametric tests). The p-value represents the probability of observing the test statistic if the null hypothesis is true.\n",
    "\n",
    "8. **Compare the test statistic to the critical value or evaluate the p-value:** If the test statistic exceeds the critical value (for non-parametric tests) or if the p-value is less than the level of significance (α) (for parametric tests), then the null hypothesis can be rejected.\n",
    "\n",
    "9. **Draw a conclusion:** Based on the comparison, either reject the null hypothesis in favor of the alternative hypothesis or fail to reject the null hypothesis (i.e., \"fail to find evidence to support the alternative hypothesis\"). Always interpret the results in the context of the research question and the real-world implications.\n",
    "\n",
    "10. **Report the findings:** Share the results of the hypothesis test in a clear and concise manner, including the test used, the data, the test statistic, the p-value, and the conclusion. This allows others to evaluate the validity of your findings and replicate your study if necessary."
   ]
  },
  {
   "cell_type": "markdown",
   "id": "b6837521-e285-42c6-b99e-a30fb684d28c",
   "metadata": {},
   "source": [
    "### Q8. Define p-value and explain its significance in hypothesis testing."
   ]
  },
  {
   "cell_type": "markdown",
   "id": "6e286804-5e77-4b0e-a62c-b402fdb02a0e",
   "metadata": {},
   "source": [
    "The p-value, or probability value, is a crucial concept in hypothesis testing. It quantifies the evidence against the null hypothesis and helps researchers make decisions about whether to reject the null hypothesis in favor of the alternative hypothesis. The p-value is a probability that measures the likelihood of obtaining the observed data or more extreme results if the null hypothesis is true.\n",
    "\n",
    "Here's how the p-value is interpreted in hypothesis testing:\n",
    "\n",
    "1. **Low p-value (typically ≤ 0.05):**\n",
    "   - If the p-value is very small (e.g., less than or equal to 0.05), it is considered statistically significant.\n",
    "   - This suggests that the observed data is unlikely to have occurred by random chance alone under the assumption that the null hypothesis is true.\n",
    "\n",
    "2. **High p-value (typically > 0.05):**\n",
    "   - If the p-value is large (e.g., greater than 0.05), it is considered not statistically significant.\n",
    "   - This implies that the observed data is reasonably likely to have occurred by random chance under the assumption that the null hypothesis is true.\n",
    "\n",
    "3. **Decision Rule:**\n",
    "   - Researchers set a significance level (α) before conducting the test, commonly at 0.05. If the p-value is less than or equal to α, the null hypothesis is rejected. If the p-value is greater than α, the null hypothesis is not rejected.\n",
    "\n",
    "4. **Conclusion:**\n",
    "   - If the null hypothesis is rejected, it suggests evidence in favor of the alternative hypothesis.\n",
    "   - If the null hypothesis is not rejected, it implies that there is not enough evidence to conclude that the alternative hypothesis is true.\n",
    "\n",
    "5. **Caution:**\n",
    "   - A p-value does not provide the probability that the null hypothesis is true or false; it only indicates the probability of obtaining the observed data assuming the null hypothesis is true.\n",
    "   - A p-value should not be the sole criterion for decision-making. The context of the study, effect size, and practical significance should also be considered.\n",
    "\n"
   ]
  },
  {
   "cell_type": "markdown",
   "id": "51c23610-05be-4228-bd9b-46b92683d9ef",
   "metadata": {},
   "source": [
    "### Q9. Generate a Student's t-distribution plot using Python's matplotlib library, with the degrees of freedom parameter set to 10."
   ]
  },
  {
   "cell_type": "code",
   "execution_count": 1,
   "id": "1a543178-7829-4fbf-8e95-9ca06fe5c8ae",
   "metadata": {},
   "outputs": [],
   "source": [
    "import numpy as np\n",
    "import matplotlib.pyplot as plt\n",
    "from scipy.stats import t"
   ]
  },
  {
   "cell_type": "code",
   "execution_count": 2,
   "id": "aa62dd7c-957c-4570-9556-dec49919b27f",
   "metadata": {},
   "outputs": [],
   "source": [
    "# Define the degrees of freedom (df) and the range of the x-axis:\n",
    "df = 10\n",
    "x_range = np.linspace(-5, 5, 100)"
   ]
  },
  {
   "cell_type": "code",
   "execution_count": 3,
   "id": "d4b55e49-3c69-4b7e-9df7-98b31afc5f5e",
   "metadata": {},
   "outputs": [],
   "source": [
    "# Calculate the t-values for the given df and x_range using the t.pdf() function from the scipy.stats module\n",
    "t_values = t.pdf(x_range, df)"
   ]
  },
  {
   "cell_type": "code",
   "execution_count": 5,
   "id": "0d26b582-d26c-4fb6-a5a2-5bad0b698623",
   "metadata": {},
   "outputs": [
    {
     "data": {
      "image/png": "[encoded data removed]",
      "text/plain": [
       "<Figure size 640x480 with 1 Axes>"
      ]
     },
     "metadata": {},
     "output_type": "display_data"
    }
   ],
   "source": [
    "# Create a figure and axis objects:\n",
    "fig, ax = plt.subplots()\n",
    "\n",
    "# Plot the t-distribution using the plot() function\n",
    "ax.plot(x_range, t_values)\n",
    "\n",
    "# Set the appropriate labels for the x-axis and y-axis, and the title for the plot\n",
    "ax.set_xlabel('t-value')\n",
    "ax.set_ylabel('Probability Density')\n",
    "ax.set_title('Student\\'s t-Distribution with df = {}'.format(df))\n",
    "\n",
    "# Display the plot\n",
    "plt.show()"
   ]
  },
  {
   "cell_type": "code",
   "execution_count": 6,
   "id": "6e361799-1bbc-4c9f-93a9-f2ccb100244b",
   "metadata": {},
   "outputs": [
    {
     "data": {
      "image/png": "[encoded data removed]",
      "text/plain": [
       "<Figure size 640x480 with 1 Axes>"
      ]
     },
     "metadata": {},
     "output_type": "display_data"
    }
   ],
   "source": [
    "import numpy as np\n",
    "import matplotlib.pyplot as plt\n",
    "from scipy.stats import t\n",
    "\n",
    "# Set the degrees of freedom\n",
    "degrees_of_freedom = 10\n",
    "\n",
    "# Generate values for x-axis\n",
    "x = np.linspace(-4, 4, 1000)\n",
    "\n",
    "# Calculate the probability density function (pdf) for the t-distribution\n",
    "pdf_values = t.pdf(x, degrees_of_freedom)\n",
    "\n",
    "# Plot the t-distribution\n",
    "plt.plot(x, pdf_values, label=f'T-Distribution (df={degrees_of_freedom})')\n",
    "plt.title(f'Student\\'s t-Distribution (df={degrees_of_freedom})')\n",
    "plt.xlabel('x')\n",
    "plt.ylabel('Probability Density Function (pdf)')\n",
    "plt.legend()\n",
    "plt.grid(True)\n",
    "plt.show()\n"
   ]
  },
  {
   "cell_type": "markdown",
   "id": "f01c4874-be23-4e21-83bb-dc8cd43ebd63",
   "metadata": {},
   "source": [
    "### Q10. Write a Python program to calculate the two-sample t-test for independent samples, given two random samples of equal size and a null hypothesis that the population means are equal."
   ]
  },
  {
   "cell_type": "code",
   "execution_count": 7,
   "id": "0d94d643-60d5-4104-ba29-8e8f26254675",
   "metadata": {},
   "outputs": [
    {
     "name": "stdout",
     "output_type": "stream",
     "text": [
      "t-statistic: -0.542405256576121\n",
      "p-value: 0.6023171871897095\n",
      "The null hypothesis cannot be rejected at the 0.05 significance level.\n"
     ]
    }
   ],
   "source": [
    "import numpy as np\n",
    "from scipy.stats import ttest_ind\n",
    "\n",
    "# Input data: two random samples of equal size\n",
    "sample1 = np.array([1.2, 3.4, 5.6, 7.8, 9.1])\n",
    "sample2 = np.array([2.3, 4.5, 6.7, 8.9, 10.2])\n",
    "\n",
    "# Calculate the t-test for independent samples\n",
    "t_stat, p_value = ttest_ind(sample1, sample2)\n",
    "\n",
    "# Print the results\n",
    "print(\"t-statistic:\", t_stat)\n",
    "print(\"p-value:\", p_value)\n",
    "\n",
    "# Determine if the null hypothesis can be rejected\n",
    "alpha = 0.05  # Significance level (e.g., 0.05 for a 95% confidence level)\n",
    "if p_value < alpha:\n",
    "    print(\"The null hypothesis can be rejected at the {} significance level.\".format(alpha))\n",
    "else:\n",
    "    print(\"The null hypothesis cannot be rejected at the {} significance level.\".format(alpha))"
   ]
  },
  {
   "cell_type": "code",
   "execution_count": 1,
   "id": "14ef4b9d-ea30-46a1-8d08-cbe3d94a3056",
   "metadata": {},
   "outputs": [
    {
     "name": "stdout",
     "output_type": "stream",
     "text": [
      "Sample 1 mean: 4.623706208297923\n",
      "Sample 2 mean: 5.757675059420114\n",
      "T-statistic: -2.3981151520102473\n",
      "P-value: 0.01971794186575796\n",
      "Reject the null hypothesis. There is evidence of a significant difference.\n"
     ]
    }
   ],
   "source": [
    "import numpy as np\n",
    "from scipy.stats import ttest_ind\n",
    "\n",
    "# Generate two random samples with equal size\n",
    "np.random.seed(42)  # Setting seed for reproducibility\n",
    "sample_size = 30\n",
    "sample1 = np.random.normal(loc=5, scale=2, size=sample_size)\n",
    "sample2 = np.random.normal(loc=6, scale=2, size=sample_size)\n",
    "\n",
    "# Perform two-sample t-test\n",
    "t_statistic, p_value = ttest_ind(sample1, sample2)\n",
    "\n",
    "# Display the results\n",
    "print(\"Sample 1 mean:\", np.mean(sample1))\n",
    "print(\"Sample 2 mean:\", np.mean(sample2))\n",
    "print(\"T-statistic:\", t_statistic)\n",
    "print(\"P-value:\", p_value)\n",
    "\n",
    "# Determine significance based on the p-value\n",
    "alpha = 0.05\n",
    "if p_value < alpha:\n",
    "    print(\"Reject the null hypothesis. There is evidence of a significant difference.\")\n",
    "else:\n",
    "    print(\"Fail to reject the null hypothesis. There is not enough evidence of a significant difference.\")\n"
   ]
  },
  {
   "cell_type": "markdown",
   "id": "51fde0f5-b5cc-445e-a411-710b8bfd8c9d",
   "metadata": {},
   "source": [
    "### Q11: What is Student’s t distribution? When to use the t-Distribution."
   ]
  },
  {
   "cell_type": "markdown",
   "id": "e2e3276c-0cb8-4e0d-bcc5-d66cbb6bd887",
   "metadata": {},
   "source": [
    "Student's t-distribution, named after William Gosset who published under the pen name \"Student,\" is a probability distribution that arises in statistical inference when estimating the mean of a normal population with a small sample size. It is a family of distributions that depends on a single parameter called degrees of freedom (df).\n",
    "\n",
    "The t-distribution is similar to the standard normal distribution (Z-distribution) but has heavier tails, meaning it captures more extreme values. When the sample size increases, the t-distribution approaches the standard normal distribution. The shape of the t-distribution becomes more symmetric as the degrees of freedom increase.\n",
    "\n",
    "**You use the t-distribution in statistical tests and calculations when:**\n",
    "\n",
    "1. You have a small sample size (typically less than 30) and want to estimate the population mean.\n",
    "2. You need to perform a t-test to compare the means of two or more independent populations. In these cases, the degrees of freedom are determined by the sample sizes of the populations being compared.\n",
    "3. You are dealing with unknown population variances and need to estimate confidence intervals or perform hypothesis testing.\n",
    "\n",
    "In summary, the t-distribution is an essential tool in statistical inference when dealing with small sample sizes, unknown population variances, or both. It helps you make informed decisions and draw conclusions about population means based on your sample data."
   ]
  },
  {
   "cell_type": "markdown",
   "id": "0a453784-b3b3-43a8-a587-40ebe9b8a1e3",
   "metadata": {},
   "source": [
    "### Q12: What is t-statistic? State the formula for t-statistic."
   ]
  },
  {
   "cell_type": "markdown",
   "id": "2f04942b-89e8-4430-a44e-7483bb655946",
   "metadata": {},
   "source": [
    "The t-statistic is a measure used in hypothesis testing to assess the evidence against the null hypothesis in a two-sample t-test or one-sample t-test. It indicates how many standard errors a sample mean is from the hypothesized population mean. The t-statistic is calculated using the sample data and is then compared to critical values or used to calculate a p-value.\n",
    "\n",
    "The formula for the t-statistic depends on the context of the test:\n",
    "\n",
    "1. **One-Sample t-Test:**\n",
    "   - The one-sample t-statistic is used when comparing the mean of a single sample to a known or hypothesized population mean $( \\mu )$:\n",
    "   $$ t = \\frac{\\bar{X} - \\mu}{\\frac{s}{\\sqrt{n}}} $$\n",
    "   where:\n",
    "     - $( \\bar{X} )$ is the sample mean,\n",
    "     - $( \\mu )$ is the hypothesized population mean,\n",
    "     - $( s )$ is the sample standard deviation, and\n",
    "     - $( n )$ is the sample size.\n",
    "\n",
    "2. **Two-Sample t-Test (Independent Samples):**\n",
    "   - The two-sample t-statistic is used when comparing the means of two independent samples:\n",
    "   $$ t = \\frac{\\bar{X}_1 - \\bar{X}_2}{\\sqrt{\\frac{s_1^2}{n_1} + \\frac{s_2^2}{n_2}}} $$\n",
    "   where:\n",
    "     - $( \\bar{X}_1 )$ and $( \\bar{X}_2 )$ are the sample means,\n",
    "     - $( s_1 )$ and $( s_2 )$ are the sample standard deviations,\n",
    "     - $( n_1 )$ and $( n_2 )$ are the sample sizes.\n",
    "\n",
    "In both formulas, the t-statistic represents the number of standard errors by which the sample mean differs from the hypothesized population mean (for one-sample t-test) or from the difference between the two sample means (for two-sample t-test). The larger the absolute value of the t-statistic, the stronger the evidence against the null hypothesis."
   ]
  },
  {
   "cell_type": "markdown",
   "id": "754c8ac3-cda3-4534-ac05-db94160c98ff",
   "metadata": {},
   "source": [
    "### Q13. A coffee shop owner wants to estimate the average daily revenue for their shop. They take a random sample of 50 days and find the sample mean revenue to be dolors 500 with a standard deviation of dolors 50. Estimate the population mean revenue with a 95% confidence interval."
   ]
  },
  {
   "cell_type": "markdown",
   "id": "484213d3-dac7-4b8f-a124-08cc5c332437",
   "metadata": {},
   "source": [
    "To estimate the population mean revenue with a 95% confidence interval, we can use the formula for the confidence interval for the population mean in the case of a known standard deviation. The formula is:\n",
    "\n",
    "$ \\text{Confidence Interval} = \\bar{X} \\pm Z \\left( \\frac{\\sigma}{\\sqrt{n}} \\right) $\n",
    "\n",
    "Where:\n",
    "- $\\bar{X}$ is the sample mean,\n",
    "- $\\sigma$ is the population standard deviation,\n",
    "- $n$ is the sample size,\n",
    "- $Z$ is the Z-score corresponding to the desired confidence level.\n",
    "\n",
    "In this case, we have:\n",
    "- $\\bar{X} = \\${500}$ (sample mean revenue),\n",
    "- $\\sigma = \\${50}$ (standard deviation),\n",
    "- $n = 50$ (sample size), and\n",
    "- We want a 95% confidence interval, so the Z-score is approximately 1.96.\n",
    "\n",
    "Let's substitute these values into the formula:\n",
    "\n",
    "$[ \\text{Confidence Interval} = \\$500 \\pm 1.96 \\left( \\frac{$50}{\\sqrt{50}} \\right) ]$\n",
    "\n",
    "Now, calculate the confidence interval:\n",
    "\n",
    "$[ \\text{Confidence Interval} \\approx \\$500 \\pm 1.96 \\left( \\frac{$50}{\\sqrt{50}} \\right) ]$\n",
    "\n",
    "$[ \\text{Confidence Interval} \\approx \\$500 \\pm 1.96 \\times $7.07 ]$\n",
    "\n",
    "$[ \\text{Confidence Interval} \\approx \\$500 \\pm $13.85 ]$\n",
    "\n",
    "So, the 95% confidence interval for the population mean revenue is approximately $(\\$486.15) to (\\$513.85)$. This means that we are 95% confident that the true average daily revenue for the coffee shop falls within this range."
   ]
  },
  {
   "cell_type": "markdown",
   "id": "e286db5a-ccff-4965-9f07-d0c864c8ef1a",
   "metadata": {},
   "source": [
    "### Q14. A researcher hypothesizes that a new drug will decrease blood pressure by 10 mmHg. They conduct a clinical trial with 100 patients and find that the sample mean decrease in blood pressure is 8 mmHg with a standard deviation of 3 mmHg. Test the hypothesis with a significance level of 0.05."
   ]
  },
  {
   "cell_type": "code",
   "execution_count": 2,
   "id": "86b86def-2e78-4d63-ba21-331abaff1b7a",
   "metadata": {},
   "outputs": [
    {
     "name": "stdout",
     "output_type": "stream",
     "text": [
      "Sample Mean: 8 mmHg\n",
      "Hypothesized Mean: 10 mmHg\n",
      "Sample Standard Deviation: 3 mmHg\n",
      "Sample Size: 100\n",
      "Degrees of Freedom: 99\n",
      "Calculated t-statistic: -6.67\n",
      "P-value: 0.0000\n",
      "Reject the null hypothesis. There is evidence of a significant difference.\n"
     ]
    }
   ],
   "source": [
    "import scipy.stats as stats\n",
    "import numpy as np\n",
    "\n",
    "# Given data\n",
    "sample_mean = 8\n",
    "hypothesized_mean = 10\n",
    "sample_std_dev = 3\n",
    "sample_size = 100\n",
    "significance_level = 0.05\n",
    "\n",
    "# Calculate the one-sample t-test statistic\n",
    "t_statistic = (sample_mean - hypothesized_mean) / (sample_std_dev / np.sqrt(sample_size))\n",
    "\n",
    "# Calculate the degrees of freedom\n",
    "degrees_of_freedom = sample_size - 1\n",
    "\n",
    "# Calculate the p-value for a two-tailed test\n",
    "p_value = 2 * (1 - stats.t.cdf(np.abs(t_statistic), degrees_of_freedom))\n",
    "\n",
    "# Compare the p-value to the significance level\n",
    "print(f\"Sample Mean: {sample_mean} mmHg\")\n",
    "print(f\"Hypothesized Mean: {hypothesized_mean} mmHg\")\n",
    "print(f\"Sample Standard Deviation: {sample_std_dev} mmHg\")\n",
    "print(f\"Sample Size: {sample_size}\")\n",
    "print(f\"Degrees of Freedom: {degrees_of_freedom}\")\n",
    "print(f\"Calculated t-statistic: {t_statistic:.2f}\")\n",
    "print(f\"P-value: {p_value:.4f}\")\n",
    "\n",
    "# Test the hypothesis\n",
    "if p_value < significance_level:\n",
    "    print(\"Reject the null hypothesis. There is evidence of a significant difference.\")\n",
    "else:\n",
    "    print(\"Fail to reject the null hypothesis. There is not enough evidence of a significant difference.\")\n"
   ]
  },
  {
   "cell_type": "markdown",
   "id": "45677069-a678-4c65-aafa-3145a5491296",
   "metadata": {},
   "source": [
    "### Q15. An electronics company produces a certain type of product with a mean weight of 5 pounds and a standard deviation of 0.5 pounds. A random sample of 25 products is taken, and the sample mean weight is found to be 4.8 pounds. Test the hypothesis that the true mean weight of the products is less than 5 pounds with a significance level of 0.01."
   ]
  },
  {
   "cell_type": "markdown",
   "id": "e20b40d0-303e-496f-8cd2-980b02853d4a",
   "metadata": {},
   "source": [
    "To test the hypothesis that the true mean weight of the products is less than 5 pounds with a significance level of 0.01, we will perform a one-sample t-test.\n",
    "\n",
    "Step 1: State the null and alternative hypotheses.\n",
    "Null hypothesis (H0): μ = 5 pounds (the true mean weight is not less than 5 pounds)\n",
    "Alternative hypothesis (H1): μ < 5 pounds (the true mean weight is less than 5 pounds)\n",
    "\n",
    "Step 2: Determine the level of significance (α).\n",
    "α = 0.01\n",
    "\n",
    "Step 3: Calculate the test statistic (t-value).\n",
    "We are given the population standard deviation (σ) = 0.5 pounds, the sample mean (x̄) = 4.8 pounds, and the sample size (n) = 25. Since we don't have the actual data, we will use the t-distribution to calculate the t-value.\n",
    "\n",
    "t = (x̄ - μ) / (σ / √n)\n",
    "t = (4.8 - 5) / (0.5 / √25)\n",
    "t = -0.2 / (0.5 / 5)\n",
    "t = -0.2 / 0.1\n",
    "t = -2\n",
    "\n",
    "Step 4: Determine the critical t-value.\n",
    "Since we have a one-tailed test with α = 0.01 and degrees of freedom (df) = n - 1 = 25 - 1 = 24, we can find the critical t-value from the t-distribution table or using a calculator.\n",
    "\n",
    "The critical t-value for a one-tailed test with α = 0.01 and df = 24 is approximately -2.064.\n",
    "\n",
    "Step 5: Compare the test statistic to the critical t-value.\n",
    "Our calculated t-value is -2, which is less than the critical t-value of -2.064.\n",
    "\n",
    "Step 6: Make a decision.\n",
    "Since the test statistic (t = -2) is less than the critical t-value (-2.064), we reject the null hypothesis (H0) in favor of the alternative hypothesis (H1). This means there is evidence to suggest that the true mean weight of the products is less than 5 pounds at a 0.01 significance level."
   ]
  },
  {
   "cell_type": "code",
   "execution_count": 3,
   "id": "ea82b245-05e5-4dcc-9aea-77f1b651e8b2",
   "metadata": {},
   "outputs": [
    {
     "name": "stdout",
     "output_type": "stream",
     "text": [
      "t statistics : -2.0000000000000018\n",
      "critical t value : -2.4921594731575762\n",
      "Fail to reject the null hypothesis. There is not enough evidence to suggest that the true mean weight is less than 5 pounds.\n"
     ]
    }
   ],
   "source": [
    "import scipy.stats\n",
    "\n",
    "# Given data\n",
    "sample_mean = 4.8\n",
    "population_mean = 5\n",
    "population_std_dev = 0.5\n",
    "sample_size = 25\n",
    "significance_level = 0.01\n",
    "\n",
    "# Calculate the t-statistic\n",
    "t_statistic = (sample_mean - population_mean) / (population_std_dev / (sample_size**0.5))\n",
    "print('t statistics :',t_statistic)\n",
    "\n",
    "# Degrees of freedom\n",
    "df = sample_size - 1\n",
    "\n",
    "# Find the critical t-value\n",
    "critical_t_value = scipy.stats.t.ppf(significance_level, df)\n",
    "print('critical t value :',critical_t_value)\n",
    "# Compare the t-statistic with the critical t-value\n",
    "if t_statistic < critical_t_value:\n",
    "    print(f\"Reject the null hypothesis. There is enough evidence to suggest that the true mean weight is less than 5 pounds.\")\n",
    "else:\n",
    "    print(\"Fail to reject the null hypothesis. There is not enough evidence to suggest that the true mean weight is less than 5 pounds.\")\n"
   ]
  },
  {
   "cell_type": "markdown",
   "id": "2891acf8-8c56-4987-af33-b4d0dc27dcd8",
   "metadata": {},
   "source": [
    "### Q16. Two groups of students are given different study materials to prepare for a test. The first group (n1 = 30) has a mean score of 80 with a standard deviation of 10, and the second group (n2 = 40) has a mean score of 75 with a standard deviation of 8. Test the hypothesis that the population means for the two groups are equal with a significance level of 0.01."
   ]
  },
  {
   "cell_type": "markdown",
   "id": "4c26e80c-0086-4bff-bae6-da70a06a320f",
   "metadata": {},
   "source": [
    "To test the hypothesis that the population means for the two groups are equal, you can use a two-sample t-test. The null hypothesis (H0) is that the population means are equal, and the alternative hypothesis (H1) is that the population means are not equal. The significance level is 0.01.\n",
    "\n",
    "The formula for the two-sample t-test is given by:\n",
    "\n",
    "$ t = \\frac{(\\bar{X}_1 - \\bar{X}_2)}{\\sqrt{\\left(\\frac{s_1^2}{n_1}\\right) + \\left(\\frac{s_2^2}{n_2}\\right)}} $\n",
    "\n",
    "where:\n",
    "- $(\\bar{X}_1)$ and $(\\bar{X}_2)$ are the sample means for the two groups.\n",
    "- $(s_1)$ and $(s_2)$ are the sample standard deviations for the two groups.\n",
    "- $(n_1)$ and $(n_2)$ are the sample sizes for the two groups.\n",
    "\n",
    "Let's plug in the given values:\n",
    "\n",
    "Group 1:\n",
    "- $(\\bar{X}_1 = 80)$\n",
    "- $(s_1 = 10)$\n",
    "- $(n_1 = 30)$\n",
    "\n",
    "Group 2:\n",
    "- $(\\bar{X}_2 = 75)$\n",
    "- $(s_2 = 8)$\n",
    "- $(n_2 = 40)$\n",
    "\n",
    "Now, calculate the t-statistic:\n",
    "\n",
    "$ t = \\frac{(80 - 75)}{\\sqrt{\\left(\\frac{10^2}{30}\\right) + \\left(\\frac{8^2}{40}\\right)}} $\n",
    "\n",
    "$ t = \\frac{5}{\\sqrt{\\frac{100}{30} + \\frac{64}{40}}} $\n",
    "\n",
    "$ t = \\frac{5}{\\sqrt{3.33 + 1.6}} $\n",
    "\n",
    "$ t = \\frac{5}{\\sqrt{4.93}} $\n",
    "\n",
    "$ t \\approx \\frac{5}{2.22} $\n",
    "\n",
    "$ t \\approx 2.25 $\n",
    "\n",
    "Now, compare this t-statistic to the critical t-value at a significance level of 0.01 with degrees of freedom equal to $(n_1 + n_2 - 2)$ (where 2 is the number of groups).\n",
    "\n",
    "If the absolute value of the calculated t-statistic is greater than the critical t-value, you reject the null hypothesis. If not, you fail to reject the null hypothesis.\n",
    "\n",
    "Since the t-statistic is approximately 2.25, you would compare this value with the critical t-value and make a decision based on whether 2.25 is greater than the critical t-value for the given degrees of freedom at a 0.01 significance level."
   ]
  },
  {
   "cell_type": "code",
   "execution_count": 1,
   "id": "23803ce6-8e23-4849-9900-5b2f5b0d98df",
   "metadata": {},
   "outputs": [
    {
     "name": "stdout",
     "output_type": "stream",
     "text": [
      "Fail to reject the null hypothesis. The means are not significantly different (p-value: 0.02312301341372599)\n"
     ]
    }
   ],
   "source": [
    "import numpy as np\n",
    "from scipy import stats\n",
    "\n",
    "# Group 1\n",
    "mean1 = 80\n",
    "std_dev1 = 10\n",
    "n1 = 30\n",
    "\n",
    "# Group 2\n",
    "mean2 = 75\n",
    "std_dev2 = 8\n",
    "n2 = 40\n",
    "\n",
    "# Calculate the t-statistic\n",
    "t_statistic, p_value = stats.ttest_ind_from_stats(mean1, std_dev1, n1, mean2, std_dev2, n2)\n",
    "\n",
    "# Define the significance level\n",
    "alpha = 0.01\n",
    "\n",
    "# Compare p-value with alpha\n",
    "if p_value < alpha:\n",
    "    print(f\"Reject the null hypothesis. The means are significantly different (p-value: {p_value})\")\n",
    "else:\n",
    "    print(f\"Fail to reject the null hypothesis. The means are not significantly different (p-value: {p_value})\")\n"
   ]
  },
  {
   "cell_type": "markdown",
   "id": "e105de79-6a82-44cf-bcd9-799d6462b0ce",
   "metadata": {},
   "source": [
    "### Q17. A marketing company wants to estimate the average number of ads watched by viewers during a TV program. They take a random sample of 50 viewers and find that the sample mean is 4 with a standard deviation of 1.5. Estimate the population mean with a 99% confidence interval."
   ]
  },
  {
   "cell_type": "markdown",
   "id": "c146646a-a820-40e6-b867-039b3407b951",
   "metadata": {},
   "source": [
    "To estimate the population mean with a confidence interval, you can use the formula for the confidence interval for the population mean $(\\mu)$:\n",
    "\n",
    "$ \\text{Confidence Interval} = \\bar{X} \\pm Z \\left( \\frac{s}{\\sqrt{n}} \\right) $\n",
    "\n",
    "where:\n",
    "- $\\bar{X}$ is the sample mean.\n",
    "- $s$ is the sample standard deviation.\n",
    "- $n$ is the sample size.\n",
    "- $Z$ is the critical value from the standard normal distribution corresponding to the desired confidence level.\n",
    "\n",
    "For a 99% confidence interval, the critical value $(Z)$ is approximately 2.576.\n",
    "\n",
    "Given values:\n",
    "- $\\bar{X} = 4$\n",
    "- $s = 1.5$\n",
    "- $n = 50$\n",
    "\n",
    "Now, plug in these values into the formula:\n",
    "\n",
    "$ \\text{Confidence Interval} = 4 \\pm 2.576 \\left( \\frac{1.5}{\\sqrt{50}} \\right) $\n",
    "\n",
    "Calculate the margin of error:\n",
    "\n",
    "$ \\text{Margin of Error} = 2.576 \\times \\left( \\frac{1.5}{\\sqrt{50}} \\right) $\n",
    "\n",
    "Now, calculate the confidence interval:\n",
    "\n",
    "$ \\text{Confidence Interval} = (4 - \\text{Margin of Error}, 4 + \\text{Margin of Error}) $\n",
    "\n",
    "Let's calculate it using Python:\n",
    "\n"
   ]
  },
  {
   "cell_type": "code",
   "execution_count": 2,
   "id": "8edf2d9a-d1c5-4a31-b1a4-01811ef650b9",
   "metadata": {},
   "outputs": [
    {
     "name": "stdout",
     "output_type": "stream",
     "text": [
      "Confidence Interval: (3.4535840896844654, 4.546415910315535)\n"
     ]
    }
   ],
   "source": [
    "\n",
    "import scipy.stats as stats\n",
    "import math\n",
    "\n",
    "# Given values\n",
    "sample_mean = 4\n",
    "sample_std_dev = 1.5\n",
    "sample_size = 50\n",
    "confidence_level = 0.99\n",
    "\n",
    "# Calculate the critical value (Z) for the given confidence level\n",
    "critical_value = stats.norm.ppf((1 + confidence_level) / 2)\n",
    "\n",
    "# Calculate the margin of error\n",
    "margin_of_error = critical_value * (sample_std_dev / math.sqrt(sample_size))\n",
    "\n",
    "# Calculate the confidence interval\n",
    "confidence_interval = (sample_mean - margin_of_error, sample_mean + margin_of_error)\n",
    "\n",
    "print(\"Confidence Interval:\", confidence_interval)\n"
   ]
  },
  {
   "cell_type": "code",
   "execution_count": null,
   "id": "8cca9598-44b6-4c0a-bcf4-12a970a39f6f",
   "metadata": {},
   "outputs": [],
   "source": []
  }
 ],
 "metadata": {
  "kernelspec": {
   "display_name": "Python 3 (ipykernel)",
   "language": "python",
   "name": "python3"
  },
  "language_info": {
   "codemirror_mode": {
    "name": "ipython",
    "version": 3
   },
   "file_extension": ".py",
   "mimetype": "text/x-python",
   "name": "python",
   "nbconvert_exporter": "python",
   "pygments_lexer": "ipython3",
   "version": "3.10.8"
  }
 },
 "nbformat": 4,
 "nbformat_minor": 5
}
